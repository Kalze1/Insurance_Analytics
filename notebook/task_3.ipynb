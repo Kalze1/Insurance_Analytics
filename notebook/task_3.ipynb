{
 "cells": [
  {
   "cell_type": "markdown",
   "metadata": {},
   "source": [
    "### A/B Hypothesis Testing\n",
    "    Accept or reject the following Null Hypotheses: \n",
    "        There are no risk differences across provinces \n",
    "        There are no risk differences between zip codes \n",
    "        There are no significant margin (profit) difference between zip codes \n",
    "        There are not significant risk difference between Women and Men\n"
   ]
  },
  {
   "cell_type": "markdown",
   "metadata": {},
   "source": [
    "### There are no risk differences across provinces "
   ]
  },
  {
   "cell_type": "code",
   "execution_count": 1,
   "metadata": {},
   "outputs": [],
   "source": [
    "import os \n",
    "os.chdir(\"../\")"
   ]
  },
  {
   "cell_type": "code",
   "execution_count": 2,
   "metadata": {},
   "outputs": [
    {
     "name": "stderr",
     "output_type": "stream",
     "text": [
      "C:\\Users\\windows 10\\AppData\\Local\\Temp\\ipykernel_8832\\685072172.py:2: DtypeWarning: Columns (33,38) have mixed types. Specify dtype option on import or set low_memory=False.\n",
      "  df = pd.read_csv(\"data/dataset.csv\")\n"
     ]
    }
   ],
   "source": [
    "import pandas as pd\n",
    "df = pd.read_csv(\"data/dataset.csv\")"
   ]
  },
  {
   "cell_type": "code",
   "execution_count": 3,
   "metadata": {},
   "outputs": [],
   "source": [
    "from scripts.preprocessing import replace_missing_with_mean, replace_missing_with_mode\n",
    "\n",
    "df = df.drop(columns=['NumberOfVehiclesInFleet','CrossBorder' ])\n",
    "numerical_cols = df.select_dtypes(include=['int64', 'float64'])\n",
    "categorical_cols = df.select_dtypes(include='object')\n",
    "\n",
    "df = replace_missing_with_mode(df,categorical_cols)\n",
    "df = replace_missing_with_mean(df,numerical_cols.columns)\n"
   ]
  },
  {
   "cell_type": "code",
   "execution_count": 4,
   "metadata": {},
   "outputs": [
    {
     "name": "stdout",
     "output_type": "stream",
     "text": [
      "Reject null hypothesis: There are significant risk differences across provinces.\n"
     ]
    }
   ],
   "source": [
    "from scripts.Hypothesis_Testing import AB_haypothe\n",
    "chi2, p_value, dof, expected = AB_haypothe(df,\"Province\")\n",
    "if p_value < 0.05:\n",
    "    print(\"Reject null hypothesis: There are significant risk differences across provinces.\")\n",
    "else:\n",
    "    print(\"Fail to reject null hypothesis: There are no significant risk differences across provinces.\")"
   ]
  },
  {
   "cell_type": "markdown",
   "metadata": {},
   "source": [
    "### There are no risk differences between zip codes \n"
   ]
  },
  {
   "cell_type": "code",
   "execution_count": 5,
   "metadata": {},
   "outputs": [
    {
     "name": "stdout",
     "output_type": "stream",
     "text": [
      "Reject null hypothesis: There are significant risk differences between zip codes.\n"
     ]
    }
   ],
   "source": [
    "\n",
    "chi2_zip, p_value_zip, dof_zip, expected_zip = AB_haypothe(df,\"PostalCode\")\n",
    "\n",
    "# Interpret results for zip codes\n",
    "if p_value_zip < 0.05:\n",
    "    print(\"Reject null hypothesis: There are significant risk differences between zip codes.\")\n",
    "else:\n",
    "    print(\"Fail to reject null hypothesis: There are no significant risk differences between zip codes.\")"
   ]
  },
  {
   "cell_type": "markdown",
   "metadata": {},
   "source": [
    "### There are no significant margin (profit) difference between zip codes \n"
   ]
  },
  {
   "cell_type": "code",
   "execution_count": 7,
   "metadata": {},
   "outputs": [
    {
     "name": "stdout",
     "output_type": "stream",
     "text": [
      "Fail to reject null hypothesis: There are no significant profit margin differences between zip codes.\n"
     ]
    }
   ],
   "source": [
    "from scripts.Hypothesis_Testing import calculate_profit_margin_and_anova\n",
    "\n",
    "\n",
    "f_statistic, p_value = calculate_profit_margin_and_anova(df)\n",
    "\n",
    "# Interpret results\n",
    "if p_value < 0.05:\n",
    "    print(\"Reject null hypothesis: There are significant profit margin differences between zip codes.\")\n",
    "else:\n",
    "    print(\"Fail to reject null hypothesis: There are no significant profit margin differences between zip codes.\")"
   ]
  },
  {
   "cell_type": "markdown",
   "metadata": {},
   "source": [
    "### There are not significant risk difference between Women and Men\n"
   ]
  },
  {
   "cell_type": "code",
   "execution_count": 8,
   "metadata": {},
   "outputs": [
    {
     "name": "stdout",
     "output_type": "stream",
     "text": [
      "Fail to reject null hypothesis: There are no significant risk differences between women and men.\n"
     ]
    }
   ],
   "source": [
    "from scripts.Hypothesis_Testing import calculate_loss_ratio_and_t_test_for_gender\n",
    "\n",
    "t_stat, p_value = calculate_loss_ratio_and_t_test_for_gender(df, \"Gender\", \"LossRatio\")\n",
    "\n",
    "\n",
    "# Interpret results\n",
    "if p_value < 0.05:\n",
    "    print(\"Reject null hypothesis: There are significant risk differences between women and men.\")\n",
    "else:\n",
    "    print(\"Fail to reject null hypothesis: There are no significant risk differences between women and men.\")"
   ]
  }
 ],
 "metadata": {
  "kernelspec": {
   "display_name": "InsuranceAnalyticenv",
   "language": "python",
   "name": "python3"
  },
  "language_info": {
   "codemirror_mode": {
    "name": "ipython",
    "version": 3
   },
   "file_extension": ".py",
   "mimetype": "text/x-python",
   "name": "python",
   "nbconvert_exporter": "python",
   "pygments_lexer": "ipython3",
   "version": "3.12.6"
  }
 },
 "nbformat": 4,
 "nbformat_minor": 2
}

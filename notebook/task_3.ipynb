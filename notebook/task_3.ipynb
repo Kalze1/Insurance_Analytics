{
 "cells": [
  {
   "cell_type": "markdown",
   "metadata": {},
   "source": [
    "### A/B Hypothesis Testing\n",
    "    Accept or reject the following Null Hypotheses: \n",
    "        There are no risk differences across provinces \n",
    "        There are no risk differences between zip codes \n",
    "        There are no significant margin (profit) difference between zip codes \n",
    "        There are not significant risk difference between Women and Men\n"
   ]
  },
  {
   "cell_type": "markdown",
   "metadata": {},
   "source": [
    "### There are no risk differences across provinces "
   ]
  },
  {
   "cell_type": "code",
   "execution_count": 1,
   "metadata": {},
   "outputs": [],
   "source": [
    "import os \n",
    "os.chdir(\"../\")"
   ]
  },
  {
   "cell_type": "code",
   "execution_count": 2,
   "metadata": {},
   "outputs": [
    {
     "name": "stderr",
     "output_type": "stream",
     "text": [
      "C:\\Users\\windows 10\\AppData\\Local\\Temp\\ipykernel_648\\685072172.py:2: DtypeWarning: Columns (33,38) have mixed types. Specify dtype option on import or set low_memory=False.\n",
      "  df = pd.read_csv(\"data/dataset.csv\")\n"
     ]
    }
   ],
   "source": [
    "import pandas as pd\n",
    "df = pd.read_csv(\"data/dataset.csv\")"
   ]
  },
  {
   "cell_type": "code",
   "execution_count": 3,
   "metadata": {},
   "outputs": [],
   "source": [
    "from scripts.preprocessing import replace_missing_with_mean, replace_missing_with_mode\n",
    "\n",
    "df = df.drop(columns=['NumberOfVehiclesInFleet','CrossBorder' ])\n",
    "numerical_cols = df.select_dtypes(include=['int64', 'float64'])\n",
    "categorical_cols = df.select_dtypes(include='object')\n",
    "\n",
    "df = replace_missing_with_mode(df,categorical_cols)\n",
    "df = replace_missing_with_mean(df,numerical_cols.columns)\n"
   ]
  },
  {
   "cell_type": "code",
   "execution_count": 5,
   "metadata": {},
   "outputs": [],
   "source": [
    "# A/B Hypothesis Testing methods\n",
    "\n",
    "import pandas as pd\n",
    "from scipy.stats import chi2_contingency\n",
    "\n",
    "\n",
    "def AB_haypothe(df,col):\n",
    "    # Calculate loss ratio\n",
    "    df[\"LossRatio\"] = df[\"TotalClaims\"] / df[\"SumInsured\"]\n",
    "\n",
    "    # Define high-risk threshold\n",
    "    high_risk_threshold = 1\n",
    "\n",
    "    # Create high-risk indicator\n",
    "    df[\"HighRisk\"] = df[\"LossRatio\"] > high_risk_threshold\n",
    "\n",
    "    # Create contingency table\n",
    "    contingency_table = pd.crosstab(df[col], df[\"HighRisk\"])\n",
    "\n",
    "    # Perform chi-squared test\n",
    "    chi2, p_value, dof, expected = chi2_contingency(contingency_table)\n",
    "\n",
    "    return chi2, p_value, dof, expected\n",
    "\n",
    "\n",
    "def calculate_profit_margin_and_anova(df):\n",
    "   \n",
    "\n",
    "    # Calculate profit margin\n",
    "    df['ProfitMargin'] = (df['TotalPremiums'] - df['TotalClaims']) / df['TotalPremiums']\n",
    "\n",
    "    # Group df by zip code and calculate average profit margin\n",
    "    grouped_df = df.groupby(\"PostalCode\")[\"ProfitMargin\"].mean()\n",
    "\n",
    "    # Perform ANOVA\n",
    "    f_statistic, p_value = f_oneway(*grouped_df)\n",
    "\n",
    "    return f_statistic, p_value\n",
    "\n",
    "\n",
    "\n",
    "\n",
    "def calculate_loss_ratio_and_t_test_for_gender(data, gender_column, loss_ratio_column):\n",
    "    \n",
    "    # Calculate loss ratio if it doesn't exist\n",
    "    if loss_ratio_column not in data.columns:\n",
    "        data[loss_ratio_column] = data['TotalClaims'] / data['SumInsured']\n",
    "\n",
    "    # Group data by gender\n",
    "    female_data = data[data[gender_column] == \"Female\"][loss_ratio_column]\n",
    "    male_data = data[data[gender_column] == \"Male\"][loss_ratio_column]\n",
    "\n",
    "    # Perform t-test\n",
    "    t_statistic, p_value = ttest_ind(female_data, male_data)\n",
    "\n",
    "    return t_statistic, p_value\n",
    "\n",
    "\n",
    "\n",
    "\n",
    "\n"
   ]
  },
  {
   "cell_type": "code",
   "execution_count": 6,
   "metadata": {},
   "outputs": [
    {
     "ename": "NameError",
     "evalue": "name 'ab_hypothesis' is not defined",
     "output_type": "error",
     "traceback": [
      "\u001b[1;31m---------------------------------------------------------------------------\u001b[0m",
      "\u001b[1;31mNameError\u001b[0m                                 Traceback (most recent call last)",
      "Cell \u001b[1;32mIn[6], line 2\u001b[0m\n\u001b[0;32m      1\u001b[0m \u001b[38;5;66;03m# from scripts.Hypothesis_Testing import ab_hypothesis\u001b[39;00m\n\u001b[1;32m----> 2\u001b[0m chi2, p_value, dof, expected \u001b[38;5;241m=\u001b[39m \u001b[43mab_hypothesis\u001b[49m(df,\u001b[38;5;124m\"\u001b[39m\u001b[38;5;124mProvince\u001b[39m\u001b[38;5;124m\"\u001b[39m)\n\u001b[0;32m      3\u001b[0m \u001b[38;5;28;01mif\u001b[39;00m p_value \u001b[38;5;241m<\u001b[39m \u001b[38;5;241m0.05\u001b[39m:\n\u001b[0;32m      4\u001b[0m     \u001b[38;5;28mprint\u001b[39m(\u001b[38;5;124m\"\u001b[39m\u001b[38;5;124mReject null hypothesis: There are significant risk differences across provinces.\u001b[39m\u001b[38;5;124m\"\u001b[39m)\n",
      "\u001b[1;31mNameError\u001b[0m: name 'ab_hypothesis' is not defined"
     ]
    }
   ],
   "source": [
    "from scripts.Hypothesis_Testing import AB_haypothe\n",
    "chi2, p_value, dof, expected = AB_haypothe(df,\"Province\")\n",
    "if p_value < 0.05:\n",
    "    print(\"Reject null hypothesis: There are significant risk differences across provinces.\")\n",
    "else:\n",
    "    print(\"Fail to reject null hypothesis: There are no significant risk differences across provinces.\")"
   ]
  },
  {
   "cell_type": "code",
   "execution_count": null,
   "metadata": {},
   "outputs": [],
   "source": [
    "if p_value < 0.05:\n",
    "    print(\"Reject null hypothesis: There are significant risk differences across provinces.\")\n",
    "else:\n",
    "    print(\"Fail to reject null hypothesis: There are no significant risk differences across provinces.\")"
   ]
  },
  {
   "cell_type": "markdown",
   "metadata": {},
   "source": [
    "### There are no risk differences between zip codes \n"
   ]
  },
  {
   "cell_type": "code",
   "execution_count": null,
   "metadata": {},
   "outputs": [],
   "source": [
    "\n",
    "chi2_zip, p_value_zip, dof_zip, expected_zip = ab_hypothesis(df,\"PostalCode\")\n",
    "\n",
    "# Interpret results for zip codes\n",
    "if p_value_zip < 0.05:\n",
    "    print(\"Reject null hypothesis: There are significant risk differences between zip codes.\")\n",
    "else:\n",
    "    print(\"Fail to reject null hypothesis: There are no significant risk differences between zip codes.\")"
   ]
  },
  {
   "cell_type": "markdown",
   "metadata": {},
   "source": [
    "### There are no significant margin (profit) difference between zip codes \n"
   ]
  },
  {
   "cell_type": "code",
   "execution_count": null,
   "metadata": {},
   "outputs": [],
   "source": [
    "from scripts.Hypothesis_Testing import calculate_profit_margin_and_anova\n",
    "\n",
    "\n",
    "f_statistic, p_value = calculate_profit_margin_and_anova(df)\n",
    "\n",
    "# Interpret results\n",
    "if p_value < 0.05:\n",
    "    print(\"Reject null hypothesis: There are significant profit margin differences between zip codes.\")\n",
    "else:\n",
    "    print(\"Fail to reject null hypothesis: There are no significant profit margin differences between zip codes.\")"
   ]
  },
  {
   "cell_type": "markdown",
   "metadata": {},
   "source": [
    "### There are not significant risk difference between Women and Men\n"
   ]
  },
  {
   "cell_type": "code",
   "execution_count": null,
   "metadata": {},
   "outputs": [],
   "source": [
    "from scripts.Hypothesis_Testing import calculate_loss_ratio_and_t_test_for_gender\n",
    "\n",
    "t_stat, p_value = calculate_loss_ratio_and_t_test_for_gender(df, \"Gender\", \"LossRatio\")\n",
    "\n",
    "\n",
    "# Interpret results\n",
    "if p_value < 0.05:\n",
    "    print(\"Reject null hypothesis: There are significant risk differences between women and men.\")\n",
    "else:\n",
    "    print(\"Fail to reject null hypothesis: There are no significant risk differences between women and men.\")"
   ]
  }
 ],
 "metadata": {
  "kernelspec": {
   "display_name": "InsuranceAnalyticenv",
   "language": "python",
   "name": "python3"
  },
  "language_info": {
   "codemirror_mode": {
    "name": "ipython",
    "version": 3
   },
   "file_extension": ".py",
   "mimetype": "text/x-python",
   "name": "python",
   "nbconvert_exporter": "python",
   "pygments_lexer": "ipython3",
   "version": "3.12.6"
  }
 },
 "nbformat": 4,
 "nbformat_minor": 2
}

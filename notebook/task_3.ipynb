{
 "cells": [
  {
   "cell_type": "markdown",
   "metadata": {},
   "source": [
    "### A/B Hypothesis Testing\n",
    "    Accept or reject the following Null Hypotheses: \n",
    "        There are no risk differences across provinces \n",
    "        There are no risk differences between zip codes \n",
    "        There are no significant margin (profit) difference between zip codes \n",
    "        There are not significant risk difference between Women and Men\n"
   ]
  },
  {
   "cell_type": "markdown",
   "metadata": {},
   "source": [
    "### A/B Hypothesis Testing: Risk Differences Across Provinces\n",
    "### Null Hypothesis (H0):\n",
    "* There are no risk differences across provinces.\n",
    "### Alternative Hypothesis (H1):\n",
    "* There are risk differences across provinces.\n",
    "\n",
    "### Selecting a Metric\n",
    "* To measure risk, we can use the loss ratio. This is calculated as:\n",
    "\n",
    "* Loss Ratio = Total Claims Paid / Total Premiums Earned\n",
    "* A higher loss ratio indicates higher risk.\n",
    "\n",
    "### Data Segmentation\n",
    "* Group A: Policyholders from a randomly selected subset of provinces.\n",
    "* Group B: Policyholders from the remaining provinces.\n",
    "### Statistical Testing\n",
    "* Chi-squared test: Compare the distribution of loss ratios between Group A and Group B."
   ]
  },
  {
   "cell_type": "code",
   "execution_count": 1,
   "metadata": {},
   "outputs": [],
   "source": [
    "import os \n",
    "os.chdir(\"../\")"
   ]
  },
  {
   "cell_type": "code",
   "execution_count": 2,
   "metadata": {},
   "outputs": [
    {
     "name": "stderr",
     "output_type": "stream",
     "text": [
      "C:\\Users\\windows 10\\AppData\\Local\\Temp\\ipykernel_12144\\685072172.py:2: DtypeWarning: Columns (33,38) have mixed types. Specify dtype option on import or set low_memory=False.\n",
      "  df = pd.read_csv(\"data/dataset.csv\")\n"
     ]
    }
   ],
   "source": [
    "import pandas as pd\n",
    "df = pd.read_csv(\"data/dataset.csv\")"
   ]
  },
  {
   "cell_type": "markdown",
   "metadata": {},
   "source": [
    "##### Maximum loss ratio:\n",
    "* 2120643.85964912\n",
    "##### Minimum loss ratio:\n",
    "* -0.12709600000000001\n",
    "#### Mean loss ratio:\n",
    "* 128.8991 (i use this value as threshold)"
   ]
  },
  {
   "cell_type": "code",
   "execution_count": 3,
   "metadata": {},
   "outputs": [],
   "source": [
    "from scripts.preprocessing import replace_missing_with_mean, replace_missing_with_mode\n",
    "\n",
    "df = df.drop(columns=['NumberOfVehiclesInFleet','CrossBorder' ])\n",
    "numerical_cols = df.select_dtypes(include=['int64', 'float64'])\n",
    "categorical_cols = df.select_dtypes(include='object')\n",
    "\n",
    "df = replace_missing_with_mode(df,categorical_cols)\n",
    "df = replace_missing_with_mean(df,numerical_cols.columns)\n"
   ]
  },
  {
   "cell_type": "code",
   "execution_count": 4,
   "metadata": {},
   "outputs": [
    {
     "name": "stdout",
     "output_type": "stream",
     "text": [
      "The chi2 value 94.82137297811462\n",
      "The p vlaue 4.8644771983937436e-17\n",
      "The dof value 8\n",
      "The expected value [[3.03106416e+04 2.53584109e+01]\n",
      " [8.09222990e+03 6.77010053e+00]\n",
      " [3.93535761e+05 3.29238875e+02]\n",
      " [1.69639077e+05 1.41923008e+02]\n",
      " [2.48152391e+04 2.07608614e+01]\n",
      " [5.26739321e+04 4.40679293e+01]\n",
      " [1.43167224e+05 1.19776194e+02]\n",
      " [6.37466684e+03 5.33315735e+00]\n",
      " [1.70653229e+05 1.42771464e+02]]\n",
      "Reject null hypothesis: There are significant risk differences across provinces.\n"
     ]
    }
   ],
   "source": [
    "from scripts.Hypothesis_Testing import AB_haypothe\n",
    "chi2, p_value, dof, expected = AB_haypothe(df,\"Province\")\n",
    "print('The chi2 value',chi2)\n",
    "print('The p vlaue', p_value)\n",
    "print('The dof value', dof)\n",
    "print('The expected value',expected)\n",
    "if p_value < 0.05:\n",
    "    print(\"Reject null hypothesis: There are significant risk differences across provinces.\")\n",
    "else:\n",
    "    print(\"Fail to reject null hypothesis: There are no significant risk differences across provinces.\")"
   ]
  },
  {
   "cell_type": "markdown",
   "metadata": {},
   "source": [
    "### Result\n",
    "#### The chi2 value:\n",
    "* 94.82137297811462\n",
    "#### The p vlaue:\n",
    "* 4.8644771983937436e-17\n",
    "#### The dof value:\n",
    "* 8\n",
    "#### The expected value:\n",
    "* [[3.03106416e+04 2.53584109e+01]\n",
    "* [8.09222990e+03 6.77010053e+00]\n",
    "* [3.93535761e+05 3.29238875e+02]\n",
    "* [1.69639077e+05 1.41923008e+02]\n",
    "* [2.48152391e+04 2.07608614e+01]\n",
    "* [5.26739321e+04 4.40679293e+01]\n",
    "* [1.43167224e+05 1.19776194e+02]\n",
    "* [6.37466684e+03 5.33315735e+00]\n",
    "* [1.70653229e+05 1.42771464e+02]]\n",
    "### Reject null hypothesis:\n",
    "* There are significant risk differences across provinces."
   ]
  },
  {
   "cell_type": "markdown",
   "metadata": {},
   "source": [
    "### Understanding the Output:\n",
    "\n",
    "#####chi2 value (94.82137297811462):\n",
    "* This is the calculated chi-squared test statistic. A higher value indicates a greater difference between the observed and expected frequencies.\n",
    "#### p-value (4.8644771983937436e-17):\n",
    "* This is the probability of observing a test statistic as extreme or more extreme as the calculated chi-squared value, assuming the null hypothesis is true. A very low p-value suggests that the observed differences are unlikely to be due to chance.\n",
    "#### dof value (8):\n",
    "* This is the degrees of freedom for the chi-squared test, which depends on the size of your contingency table.\n",
    "#### expected value matrix:\n",
    "* This matrix contains the expected frequencies under the assumption of independence between the provinces and the high-risk status.\n",
    "### Conclusion:\n",
    "\n",
    "* Given the low p-value (4.8644771983937436e-17), you can reject the null hypothesis and conclude that there are significant risk differences across provinces. This means that the observed differences in loss ratios between the provinces are unlikely to be due to chance."
   ]
  },
  {
   "cell_type": "markdown",
   "metadata": {},
   "source": [
    "### There are no risk differences between zip codes \n"
   ]
  },
  {
   "cell_type": "markdown",
   "metadata": {},
   "source": [
    "### A/B Hypothesis Testing : There are no risk differences between zip codes \n",
    "\n",
    "#### Null Hypothesis (H0):\n",
    "\n",
    "* There are no risk differences between zip codes.\n",
    "#### Alternative Hypothesis (H1):\n",
    "\n",
    "* There are risk differences between zip codes.\n"
   ]
  },
  {
   "cell_type": "code",
   "execution_count": 5,
   "metadata": {},
   "outputs": [
    {
     "name": "stdout",
     "output_type": "stream",
     "text": [
      "The chi2_zip value 1256.157467912241\n",
      "The p_value_zip 3.241824585855775e-15\n",
      "The dof_zip value 887\n",
      "The expected_zip value [[5.33653536e+03 4.46463847e+00]\n",
      " [1.48675615e+03 1.24384610e+00]\n",
      " [7.69356343e+01 6.43656922e-02]\n",
      " ...\n",
      " [9.99164082e+01 8.35918080e-02]\n",
      " [1.41381718e+03 1.18282408e+00]\n",
      " [2.19816098e+02 1.83901978e-01]]\n",
      "Reject null hypothesis: There are significant risk differences between zip codes.\n"
     ]
    }
   ],
   "source": [
    "\n",
    "chi2_zip, p_value_zip, dof_zip, expected_zip = AB_haypothe(df,\"PostalCode\")\n",
    "print('The chi2_zip value',chi2_zip)\n",
    "print('The p_value_zip', p_value_zip)\n",
    "print('The dof_zip value', dof_zip)\n",
    "print('The expected_zip value',expected_zip)\n",
    "\n",
    "# Interpret results for zip codes\n",
    "if p_value_zip < 0.05:\n",
    "    print(\"Reject null hypothesis: There are significant risk differences between zip codes.\")\n",
    "else:\n",
    "    print(\"Fail to reject null hypothesis: There are no significant risk differences between zip codes.\")"
   ]
  },
  {
   "cell_type": "markdown",
   "metadata": {},
   "source": [
    "### value \n",
    "#### The chi2_zip value:\n",
    "* 1256.157467912241\n",
    "#### The p_value_zip:\n",
    "* 3.241824585855775e-15\n",
    "#### The dof_zip value:\n",
    "* 887\n",
    "#### The expected_zip value:\n",
    "* [[5.33653536e+03 4.46463847e+00]\n",
    "* [1.48675615e+03 1.24384610e+00]\n",
    "* [7.69356343e+01 6.43656922e-02]\n",
    "* ...\n",
    "* [9.99164082e+01 8.35918080e-02]\n",
    "* [1.41381718e+03 1.18282408e+00]\n",
    "* [2.19816098e+02 1.83901978e-01]]\n",
    "### Reject null hypothesis:\n",
    "* There are significant risk differences between zip codes."
   ]
  },
  {
   "cell_type": "markdown",
   "metadata": {},
   "source": [
    "### Understanding the Output:\n",
    "\n",
    "#### chi2_zip value (1256.157467912241):\n",
    "* This is the calculated chi-squared test statistic. A higher value indicates a greater difference between the observed and expected frequencies.\n",
    "#### p_value_zip (3.241824585855775e-15):\n",
    "* This is the p-value associated with the test statistic. A very low p-value suggests that the observed differences are unlikely to be due to chance.\n",
    "#### dof_zip value (887):\n",
    "* This is the degrees of freedom for the chi-squared test, which depends on the size of your contingency table.\n",
    "#### expected_zip value:\n",
    "* This matrix contains the expected frequencies under the assumption of independence between zip codes and the high-risk status.\n",
    "####Conclusion:\n",
    "\n",
    "* Given the low p-value (3.241824585855775e-15), you can reject the null hypothesis and conclude that there are significant risk differences between zip codes. This means that the observed differences in loss ratios between zip codes are unlikely to be due to chance."
   ]
  },
  {
   "cell_type": "markdown",
   "metadata": {},
   "source": [
    "### Hypothesis Testing: There are no significant margin (profit) difference between zip codes \n",
    "#### Null Hypothesis (H0):\n",
    "\n",
    "* There are no significant profit margin differences between zip codes.\n",
    "#### Alternative Hypothesis (H1):\n",
    "\n",
    "* There are significant profit margin differences between zip codes.\n",
    "##### Calculating Profit Margin\n",
    "* To calculate profit margin, you'll need to have information about the premiums earned and expenses incurred for each policy.\n",
    "\n",
    "* Profit Margin = (Total Premiums Earned - Total Expenses) / Total Premiums \n"
   ]
  },
  {
   "cell_type": "code",
   "execution_count": 6,
   "metadata": {},
   "outputs": [
    {
     "name": "stdout",
     "output_type": "stream",
     "text": [
      "The f stastistic value  0.8252594843896949\n",
      "The p value  0.9999431392284237\n",
      "Fail to reject null hypothesis: There are no significant profit margin differences between zip codes.\n"
     ]
    }
   ],
   "source": [
    "from scripts.Hypothesis_Testing import calculate_profit_margin_and_anova\n",
    "\n",
    "\n",
    "f_statistic, p_value = calculate_profit_margin_and_anova(df)\n",
    "print('The f stastistic value ',f_statistic)\n",
    "print('The p value ', p_value)\n",
    "\n",
    "# Interpret results\n",
    "if p_value < 0.05:\n",
    "    print(\"Reject null hypothesis: There are significant profit margin differences between zip codes.\")\n",
    "else:\n",
    "    print(\"Fail to reject null hypothesis: There are no significant profit margin differences between zip codes.\")"
   ]
  },
  {
   "cell_type": "markdown",
   "metadata": {},
   "source": [
    "### Result \n",
    "#### The f stastistic value:\n",
    "*  0.8252594843896949\n",
    "#### The p value:\n",
    "*  0.9999431392284237\n",
    "### Fail to reject null hypothesis:\n",
    "* There are no significant profit margin differences between zip codes."
   ]
  },
  {
   "cell_type": "markdown",
   "metadata": {},
   "source": [
    "### Interpreting the Results:\n",
    "\n",
    "#### F-statistic (0.8252594843896949):\n",
    "* This is the calculated F-statistic, which measures the variation between group means relative to the variation within groups. A higher F-statistic indicates greater differences between groups.\n",
    "#### p-value (0.9999431392284237):\n",
    "* This is the probability of observing an F-statistic as extreme or more extreme as the calculated value, assuming the null hypothesis (no difference between groups) is true. A high p-value suggests that the observed differences are likely due to chance.\n",
    "\n",
    "### Conclusion:\n",
    "\n",
    "* Given the high p-value (0.9999431392284237), you fail to reject the null hypothesis. This means that there is not enough statistical evidence to conclude that there are significant profit margin differences between zip codes."
   ]
  },
  {
   "cell_type": "markdown",
   "metadata": {},
   "source": [
    "### Hypothesis Testing: There are not significant risk difference between Women and Men\n",
    "#### Null Hypothesis (H0):\n",
    "\n",
    "* There are no significant risk differences between women and men.\n",
    "#### Alternative Hypothesis (H1):\n",
    "\n",
    "* There are significant risk differences between women and men.\n",
    "#### Data Preparation\n",
    "* Calculate Loss Ratio: As we did previously, calculate the loss ratio for each policy.\n",
    "* Group by Gender: Group the data by gender.\n",
    "#### Statistical Testing\n",
    "* T-Test: Use an independent t-test to compare the mean loss ratios between women and men.\n"
   ]
  },
  {
   "cell_type": "code",
   "execution_count": 7,
   "metadata": {},
   "outputs": [
    {
     "name": "stdout",
     "output_type": "stream",
     "text": [
      "The t stat value  1.275317702578255\n",
      "The p value  0.20220279120352017\n",
      "Fail to reject null hypothesis: There are no significant risk differences between women and men.\n"
     ]
    }
   ],
   "source": [
    "from scripts.Hypothesis_Testing import calculate_loss_ratio_and_t_test_for_gender\n",
    "\n",
    "t_stat, p_value = calculate_loss_ratio_and_t_test_for_gender(df, \"Gender\", \"LossRatio\")\n",
    "\n",
    "print('The t stat value ', t_stat)\n",
    "print('The p value ', p_value)\n",
    "# Interpret results\n",
    "if p_value < 0.05:\n",
    "    print(\"Reject null hypothesis: There are significant risk differences between women and men.\")\n",
    "else:\n",
    "    print(\"Fail to reject null hypothesis: There are no significant risk differences between women and men.\")"
   ]
  },
  {
   "cell_type": "markdown",
   "metadata": {},
   "source": [
    "### Result\n",
    "\n",
    "#### The t stat value:\n",
    "*  1.275317702578255\n",
    "#### The p value:\n",
    "*  0.20220279120352017\n",
    "#### Fail to reject null hypothesis:\n",
    "* There are no significant risk differences between women and men."
   ]
  },
  {
   "cell_type": "markdown",
   "metadata": {},
   "source": [
    "### Understanding the Output:\n",
    "\n",
    "#### t stat value (1.275317702578255):\n",
    "* This is the calculated t-statistic, which measures the difference between the means of the two groups (women and men) relative to the standard error.\n",
    "#### p value (0.20220279120352017):\n",
    "* This is the probability of observing a test statistic as extreme or more extreme as the calculated t-statistic, assuming the null hypothesis is true.\n",
    "\n",
    "### Conclusion:\n",
    "\n",
    "* Given the p-value of 0.20220279120352017, which is greater than the typical alpha level of 0.05, you fail to reject the null hypothesis. This means that there is not enough statistical evidence to conclude that there are significant risk differences between women and men.\n",
    "\n"
   ]
  }
 ],
 "metadata": {
  "kernelspec": {
   "display_name": "InsuranceAnalyticenv",
   "language": "python",
   "name": "python3"
  },
  "language_info": {
   "codemirror_mode": {
    "name": "ipython",
    "version": 3
   },
   "file_extension": ".py",
   "mimetype": "text/x-python",
   "name": "python",
   "nbconvert_exporter": "python",
   "pygments_lexer": "ipython3",
   "version": "3.12.6"
  }
 },
 "nbformat": 4,
 "nbformat_minor": 2
}

{
 "cells": [
  {
   "cell_type": "code",
   "execution_count": 1,
   "metadata": {},
   "outputs": [],
   "source": [
    "import os \n",
    "os.chdir(\"../\")"
   ]
  },
  {
   "cell_type": "markdown",
   "metadata": {},
   "source": [
    "### Load the data"
   ]
  },
  {
   "cell_type": "code",
   "execution_count": null,
   "metadata": {},
   "outputs": [],
   "source": [
    "import pandas as pd\n",
    "df = pd.read_csv(\"data/dataset.csv\")"
   ]
  },
  {
   "cell_type": "markdown",
   "metadata": {},
   "source": [
    "### Take 10% of the data"
   ]
  },
  {
   "cell_type": "code",
   "execution_count": 3,
   "metadata": {},
   "outputs": [],
   "source": [
    "# cd = df\n",
    "# df = df.sample(frac=0.1, random_state=42)  \n"
   ]
  },
  {
   "cell_type": "code",
   "execution_count": 4,
   "metadata": {},
   "outputs": [],
   "source": [
    "import pandas as pd\n",
    "\n",
    "# Load the downloaded postal code data\n",
    "postal_data = pd.read_csv(\"data/ZA.txt\", sep='\\t', header=None, names=['CountryCode', 'PostalCode', 'PlaceName', 'Admin1Name', 'Admin1Code', 'Admin2Name', 'Admin2Code', 'Admin3Name', 'Admin3Code', 'Latitude', 'Longitude', 'Accuracy'])\n",
    "\n",
    "# Create a mapping of postal codes to city names\n",
    "postal_code_to_city = dict(zip(postal_data['PostalCode'], postal_data['PlaceName']))\n",
    "# Add a new column in your dataset by mapping the postal code to city names\n",
    "df['CityName'] = df['PostalCode'].map(postal_code_to_city)\n",
    "value_counts = df['CityName'].value_counts()\n",
    "cities_to_replace = value_counts[value_counts < 2000].index.tolist()\n",
    "df['CityName'] = df['CityName'].apply(lambda x: 'Other' if x in cities_to_replace else x)\n"
   ]
  },
  {
   "cell_type": "markdown",
   "metadata": {},
   "source": [
    "### Selecting important columns"
   ]
  },
  {
   "cell_type": "code",
   "execution_count": 5,
   "metadata": {},
   "outputs": [],
   "source": [
    "from scripts.data_preparation import feature_engineering\n",
    "\n",
    "\n",
    "df = feature_engineering(df)"
   ]
  },
  {
   "cell_type": "code",
   "execution_count": 6,
   "metadata": {},
   "outputs": [],
   "source": [
    "\n",
    "selected_columns = ['CityName','RiskFactor','VehicleAge', 'MainCrestaZone', 'SubCrestaZone', 'mmcode', 'Cylinders', 'cubiccapacity', 'kilowatts', 'NumberOfDoors', 'CustomValueEstimate', 'AlarmImmobiliser', 'TrackingDevice', 'CapitalOutstanding', 'NewVehicle', 'WrittenOff', 'Rebuilt', 'Converted', 'SumInsured', 'TermFrequency', 'CalculatedPremiumPerTerm', 'ExcessSelected', 'CoverCategory', 'CoverType', 'CoverGroup', 'Section', 'Product', 'StatutoryClass', 'StatutoryRiskType','TotalPremium', 'TotalClaims']\n",
    "\n",
    "df = df[selected_columns]"
   ]
  },
  {
   "cell_type": "markdown",
   "metadata": {},
   "source": [
    "### Data Preparation: "
   ]
  },
  {
   "cell_type": "code",
   "execution_count": 7,
   "metadata": {},
   "outputs": [],
   "source": [
    "from scripts.preprocessing import  replace_missing_with_mean, replace_missing_with_mode\n",
    " \n",
    "\n",
    "\n",
    "numerical_cols = df.select_dtypes(include=['int64', 'float64'])\n",
    "categorical_cols = df.select_dtypes(include='object')\n",
    "\n",
    "df = replace_missing_with_mode(df,categorical_cols)\n",
    "df = replace_missing_with_mean(df,numerical_cols.columns)\n",
    "\n"
   ]
  },
  {
   "cell_type": "code",
   "execution_count": 8,
   "metadata": {},
   "outputs": [],
   "source": [
    "# Remove outliers\n",
    "from scripts.preprocessing import remove_outliers\n",
    "\n",
    "\n",
    "df = remove_outliers(df)\n",
    "\n",
    "\n"
   ]
  },
  {
   "cell_type": "markdown",
   "metadata": {},
   "source": [
    "#### Encoding Categorical Data:\n",
    "* Convert categorical data into a numeric format using one-hot encoding or label encoding to make it suitable for modeling."
   ]
  },
  {
   "cell_type": "code",
   "execution_count": 9,
   "metadata": {},
   "outputs": [],
   "source": [
    "\n",
    "selected_columns = ['CityName','RiskFactor','VehicleAge', 'Cylinders', 'kilowatts', 'CustomValueEstimate', 'CapitalOutstanding', 'NewVehicle', 'Rebuilt', 'Converted', 'SumInsured', 'TermFrequency', 'CalculatedPremiumPerTerm', 'ExcessSelected', 'CoverCategory', 'CoverType', 'Section', 'Product', 'StatutoryRiskType','TotalPremium', 'TotalClaims']\n",
    "\n",
    "df = df[selected_columns]"
   ]
  },
  {
   "cell_type": "code",
   "execution_count": 10,
   "metadata": {},
   "outputs": [],
   "source": [
    "from scripts.data_preparation import encode_categorical_data\n",
    "\n",
    "\n",
    "df = encode_categorical_data(df)"
   ]
  },
  {
   "cell_type": "markdown",
   "metadata": {},
   "source": [
    "\n",
    "#### Train-Test Split:\n",
    "* Divide the data into a training set (for building the model) and a test set (for validating the model) using a 70:30 \n"
   ]
  },
  {
   "cell_type": "code",
   "execution_count": 11,
   "metadata": {},
   "outputs": [],
   "source": [
    "from scripts.data_preparation import train_test_splitting\n",
    "\n",
    "\n",
    "target_cols = ['TotalPremium', 'TotalClaims']\n",
    "X_train, X_test, y_train, y_test = train_test_splitting(df, target_cols)"
   ]
  },
  {
   "cell_type": "markdown",
   "metadata": {},
   "source": [
    "### Model Building\n",
    "* Implement Linear Regression, Random Forests, and XGBoost models\n"
   ]
  },
  {
   "cell_type": "code",
   "execution_count": null,
   "metadata": {},
   "outputs": [],
   "source": [
    "\n",
    "# from scripts.models import train_and_evaluate_models\n",
    "\n",
    "\n",
    "# results = train_and_evaluate_models(X_train, X_test, y_train['TotalPremium'], y_test['TotalPremium'])\n",
    "# # Print results for each model\n",
    "# for model_name, metrics in results.items():\n",
    "#     print(f\"{model_name}: MSE = {metrics['MSE']}, R2 = {metrics['R2']}\")"
   ]
  },
  {
   "cell_type": "code",
   "execution_count": 37,
   "metadata": {},
   "outputs": [],
   "source": [
    "from sklearn.metrics import precision_score, recall_score, f1_score, mean_squared_error, r2_score\n",
    "import numpy as np\n",
    "def evaluate_model(model, X_test, y_test):\n",
    "    \"\"\"\n",
    "    Evaluate the model using Mean Squared Error and R-squared score.\n",
    "    \"\"\"\n",
    "\n",
    "    y_pred = model.predict(X_test)\n",
    "\n",
    "    # Convert one-hot encoded labels to class labels\n",
    "    y_pred_labels = np.argmax(y_pred, axis=1)  # Predicted class labels\n",
    "    y_true_labels = np.argmax(y_test, axis=1)     # True class labels\n",
    "\n",
    "    # Now calculate the mse, r2, precision, recall, and F1 score with these class labels\n",
    "    mse = mean_squared_error(y_test, y_pred)\n",
    "    r2 = r2_score(y_test, y_pred)\n",
    "    precision = precision_score(y_true_labels, y_pred_labels, average='macro')\n",
    "    recall = recall_score(y_true_labels, y_pred_labels, average='macro')\n",
    "    f1 = f1_score(y_true_labels, y_pred_labels, average='macro')\n",
    "\n",
    "\n",
    "    \n",
    "    return mse, r2, precision, recall, f1"
   ]
  },
  {
   "cell_type": "code",
   "execution_count": 16,
   "metadata": {},
   "outputs": [],
   "source": [
    "from scripts.models import build_linear_regression\n",
    "lr_model = build_linear_regression(X_train, y_train)"
   ]
  },
  {
   "cell_type": "code",
   "execution_count": 20,
   "metadata": {},
   "outputs": [],
   "source": [
    "y_pred_lr = lr_model.predict(X_test)\n",
    "y_true = y_test"
   ]
  },
  {
   "cell_type": "code",
   "execution_count": null,
   "metadata": {},
   "outputs": [],
   "source": [
    "from sklearn.linear_model import LinearRegression\n",
    "\n",
    "feature_names = ['CityName','RiskFactor','VehicleAge', 'Cylinders', 'kilowatts', 'CustomValueEstimate', 'CapitalOutstanding', 'NewVehicle', 'Rebuilt', 'Converted', 'SumInsured', 'TermFrequency', 'CalculatedPremiumPerTerm', 'ExcessSelected', 'CoverCategory', 'CoverType', 'Section', 'Product', 'StatutoryRiskType','TotalPremium', 'TotalClaims']\n",
    "\n",
    "# Get the coefficients\n",
    "coefficients = lr_model.coef_\n",
    "\n",
    "# Print feature importance\n",
    "for feature, coef in zip(feature_names, coefficients):\n",
    "    print(f'{feature}: {coef}')\n"
   ]
  },
  {
   "cell_type": "code",
   "execution_count": 17,
   "metadata": {},
   "outputs": [],
   "source": [
    "from scripts.models import build_decision_tree\n",
    "\n",
    "\n",
    "dt_model= build_decision_tree(X_train, y_train)"
   ]
  },
  {
   "cell_type": "code",
   "execution_count": 24,
   "metadata": {},
   "outputs": [],
   "source": [
    "y_pred_lr = lr_model.predict(X_test)\n",
    "y_true = y_test"
   ]
  },
  {
   "cell_type": "code",
   "execution_count": 18,
   "metadata": {},
   "outputs": [],
   "source": [
    "from scripts.models import build_random_forest\n",
    "\n",
    "\n",
    "rf_model = build_random_forest(X_train, y_train)"
   ]
  },
  {
   "cell_type": "code",
   "execution_count": null,
   "metadata": {},
   "outputs": [],
   "source": [
    "y_pred_lr = lr_model.predict(X_test)\n",
    "y_true = y_test"
   ]
  },
  {
   "cell_type": "code",
   "execution_count": 52,
   "metadata": {},
   "outputs": [
    {
     "ename": "ImportError",
     "evalue": "cannot import name 'plt' from 'matplotlib.pyplot' (c:\\Users\\windows 10\\Desktop\\Insurance_Analatics\\Insurance_Analytics\\.venv\\Lib\\site-packages\\matplotlib\\pyplot.py)",
     "output_type": "error",
     "traceback": [
      "\u001b[1;31m---------------------------------------------------------------------------\u001b[0m",
      "\u001b[1;31mImportError\u001b[0m                               Traceback (most recent call last)",
      "Cell \u001b[1;32mIn[52], line 1\u001b[0m\n\u001b[1;32m----> 1\u001b[0m \u001b[38;5;28;01mfrom\u001b[39;00m \u001b[38;5;21;01mmatplotlib\u001b[39;00m\u001b[38;5;21;01m.\u001b[39;00m\u001b[38;5;21;01mpyplot\u001b[39;00m \u001b[38;5;28;01mimport\u001b[39;00m plt\n\u001b[0;32m      2\u001b[0m \u001b[38;5;66;03m# Example with Random Forest\u001b[39;00m\n\u001b[0;32m      3\u001b[0m importances \u001b[38;5;241m=\u001b[39m rf_model\u001b[38;5;241m.\u001b[39mfeature_importances_\n",
      "\u001b[1;31mImportError\u001b[0m: cannot import name 'plt' from 'matplotlib.pyplot' (c:\\Users\\windows 10\\Desktop\\Insurance_Analatics\\Insurance_Analytics\\.venv\\Lib\\site-packages\\matplotlib\\pyplot.py)"
     ]
    }
   ],
   "source": [
    "import matplotlib.pyplot import plt\n",
    "# Example with Random Forest\n",
    "importances = rf_model.feature_importances_\n",
    "sorted_indices = np.argsort(importances)[::-1]\n",
    "\n",
    "# Plot feature importance\n",
    "plt.barh(np.array(feature_names)[sorted_indices], importances[sorted_indices])\n",
    "plt.title('Feature Importance')\n",
    "plt.show()\n"
   ]
  },
  {
   "cell_type": "code",
   "execution_count": 19,
   "metadata": {},
   "outputs": [],
   "source": [
    "from scripts.models import build_xgboost\n",
    "\n",
    "\n",
    "xgb_model = build_xgboost(X_train, y_train)"
   ]
  },
  {
   "cell_type": "code",
   "execution_count": 31,
   "metadata": {},
   "outputs": [],
   "source": [
    "y_pred_lr = lr_model.predict(X_test)\n",
    "y_true = y_test"
   ]
  },
  {
   "cell_type": "code",
   "execution_count": null,
   "metadata": {},
   "outputs": [],
   "source": [
    "mse, r2, precision, recall, f1 = evaluate_model(xgb_model,X_test,y_test)\n",
    "print(mse, r2, precision, recall, f1)"
   ]
  },
  {
   "cell_type": "code",
   "execution_count": null,
   "metadata": {},
   "outputs": [],
   "source": [
    "from scripts.visualize imort visualize\n",
    "visualize()"
   ]
  }
 ],
 "metadata": {
  "kernelspec": {
   "display_name": ".venv",
   "language": "python",
   "name": "python3"
  },
  "language_info": {
   "codemirror_mode": {
    "name": "ipython",
    "version": 3
   },
   "file_extension": ".py",
   "mimetype": "text/x-python",
   "name": "python",
   "nbconvert_exporter": "python",
   "pygments_lexer": "ipython3",
   "version": "3.12.6"
  }
 },
 "nbformat": 4,
 "nbformat_minor": 2
}

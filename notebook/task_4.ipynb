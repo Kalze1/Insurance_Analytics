{
 "cells": [
  {
   "cell_type": "code",
   "execution_count": 1,
   "metadata": {},
   "outputs": [],
   "source": [
    "import os \n",
    "os.chdir(\"../\")"
   ]
  },
  {
   "cell_type": "markdown",
   "metadata": {},
   "source": [
    "### Load the data"
   ]
  },
  {
   "cell_type": "code",
   "execution_count": null,
   "metadata": {},
   "outputs": [],
   "source": [
    "import pandas as pd\n",
    "df = pd.read_csv(\"data/dataset.csv\")"
   ]
  },
  {
   "cell_type": "markdown",
   "metadata": {},
   "source": [
    "### Data Preparation: "
   ]
  },
  {
   "cell_type": "markdown",
   "metadata": {},
   "source": [
    "#### Handling Missing Data:\n",
    "* This columens are removed bocouse they are useless for the model ['Unnamed: 0', 'UnderwrittenCoverID', 'PolicyID', 'TransactionMonth', 'CrossBorder', 'NumberOfVehiclesInFleet']\n"
   ]
  },
  {
   "cell_type": "code",
   "execution_count": 19,
   "metadata": {},
   "outputs": [],
   "source": [
    "from scripts.preprocessing import convert_vehicle_intro_date_to_age, replace_missing_with_mean, replace_missing_with_mode\n",
    " \n",
    "drop_columns = ['Unnamed: 0', 'UnderwrittenCoverID', 'PolicyID', 'TransactionMonth', 'CrossBorder', 'NumberOfVehiclesInFleet']\n",
    "\n",
    "df = df.drop(columns=drop_columns)\n",
    "numerical_cols = df.select_dtypes(include=['int64', 'float64'])\n",
    "categorical_cols = df.select_dtypes(include='object')\n",
    "\n",
    "df = replace_missing_with_mode(df,categorical_cols)\n",
    "df = replace_missing_with_mean(df,numerical_cols.columns)\n",
    "df = convert_vehicle_intro_date_to_age(df)\n"
   ]
  },
  {
   "cell_type": "code",
   "execution_count": 21,
   "metadata": {},
   "outputs": [],
   "source": [
    "from scripts.data_preparation import preprocess_data\n",
    "\n",
    "\n",
    "df = preprocess_data(df)\n"
   ]
  },
  {
   "cell_type": "markdown",
   "metadata": {},
   "source": [
    "#### Feature Engineering:\n",
    "* Create new features that might be relevant to TotalPremium and TotalClaims."
   ]
  },
  {
   "cell_type": "code",
   "execution_count": null,
   "metadata": {},
   "outputs": [],
   "source": [
    "from scripts.data_preparation import feature_engineering\n",
    "\n",
    "\n",
    "df = feature_engineering(df)"
   ]
  },
  {
   "cell_type": "markdown",
   "metadata": {},
   "source": [
    "#### Encoding Categorical Data:\n",
    "* Convert categorical data into a numeric format using one-hot encoding or label encoding to make it suitable for modeling."
   ]
  },
  {
   "cell_type": "code",
   "execution_count": null,
   "metadata": {},
   "outputs": [],
   "source": [
    "from scripts.data_preparation import encode_categorical_data\n",
    "\n",
    "\n",
    "df = encode_categorical_data(df)"
   ]
  },
  {
   "cell_type": "markdown",
   "metadata": {},
   "source": [
    "\n",
    "#### Train-Test Split:\n",
    "* Divide the data into a training set (for building the model) and a test set (for validating the model) using a 70:30 \n"
   ]
  },
  {
   "cell_type": "code",
   "execution_count": null,
   "metadata": {},
   "outputs": [],
   "source": [
    "from scripts.data_preparation import train_test_splitting\n",
    "\n",
    "\n",
    "target_cols = ['TotalPremium', 'TotalClaims']\n",
    "X_train, X_test, y_train, y_test = train_test_splitting(df, target_cols)"
   ]
  },
  {
   "cell_type": "markdown",
   "metadata": {},
   "source": [
    "### Model Building\n",
    "* Implement Linear Regression, Random Forests, and XGBoost models\n"
   ]
  },
  {
   "cell_type": "code",
   "execution_count": 35,
   "metadata": {},
   "outputs": [],
   "source": [
    "\n",
    "from scripts.models import train_and_evaluate_models\n",
    "\n",
    "\n",
    "results = train_and_evaluate_models(X_train, X_test, y_train['TotalPremium'], y_test['TotalPremium'])\n",
    "    \n",
    "# Print results for each model\n",
    "for model_name, metrics in results.items():\n",
    "    print(f\"{model_name}: MSE = {metrics['MSE']}, R2 = {metrics['R2']}\")"
   ]
  }
 ],
 "metadata": {
  "kernelspec": {
   "display_name": ".venv",
   "language": "python",
   "name": "python3"
  },
  "language_info": {
   "codemirror_mode": {
    "name": "ipython",
    "version": 3
   },
   "file_extension": ".py",
   "mimetype": "text/x-python",
   "name": "python",
   "nbconvert_exporter": "python",
   "pygments_lexer": "ipython3",
   "version": "3.12.6"
  }
 },
 "nbformat": 4,
 "nbformat_minor": 2
}

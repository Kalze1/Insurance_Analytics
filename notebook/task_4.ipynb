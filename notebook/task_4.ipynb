{
 "cells": [
  {
   "cell_type": "code",
   "execution_count": 1,
   "metadata": {},
   "outputs": [],
   "source": [
    "import os \n",
    "os.chdir(\"../\")"
   ]
  },
  {
   "cell_type": "markdown",
   "metadata": {},
   "source": [
    "### Load the data"
   ]
  },
  {
   "cell_type": "code",
   "execution_count": null,
   "metadata": {},
   "outputs": [],
   "source": [
    "import pandas as pd\n",
    "df = pd.read_csv(\"data/dataset.csv\")"
   ]
  },
  {
   "cell_type": "code",
   "execution_count": 39,
   "metadata": {},
   "outputs": [],
   "source": [
    "df = df.sample(frac=0.1, random_state=42)  # Take 10% of the data"
   ]
  },
  {
   "cell_type": "code",
   "execution_count": 40,
   "metadata": {},
   "outputs": [
    {
     "name": "stdout",
     "output_type": "stream",
     "text": [
      "<class 'pandas.core.frame.DataFrame'>\n",
      "Index: 100010 entries, 57024 to 206822\n",
      "Data columns (total 53 columns):\n",
      " #   Column                    Non-Null Count   Dtype  \n",
      "---  ------                    --------------   -----  \n",
      " 0   Unnamed: 0                100010 non-null  int64  \n",
      " 1   UnderwrittenCoverID       100010 non-null  int64  \n",
      " 2   PolicyID                  100010 non-null  int64  \n",
      " 3   TransactionMonth          100010 non-null  object \n",
      " 4   IsVATRegistered           100010 non-null  bool   \n",
      " 5   Citizenship               100010 non-null  object \n",
      " 6   LegalType                 100010 non-null  object \n",
      " 7   Title                     100010 non-null  object \n",
      " 8   Language                  100010 non-null  object \n",
      " 9   Bank                      85337 non-null   object \n",
      " 10  AccountType               95959 non-null   object \n",
      " 11  MaritalStatus             99192 non-null   object \n",
      " 12  Gender                    99077 non-null   object \n",
      " 13  Country                   100010 non-null  object \n",
      " 14  Province                  100010 non-null  object \n",
      " 15  PostalCode                100010 non-null  int64  \n",
      " 16  MainCrestaZone            100010 non-null  object \n",
      " 17  SubCrestaZone             100010 non-null  object \n",
      " 18  ItemType                  100010 non-null  object \n",
      " 19  mmcode                    99966 non-null   float64\n",
      " 20  VehicleType               99966 non-null   object \n",
      " 21  RegistrationYear          100010 non-null  int64  \n",
      " 22  make                      99966 non-null   object \n",
      " 23  Model                     99966 non-null   object \n",
      " 24  Cylinders                 99966 non-null   float64\n",
      " 25  cubiccapacity             99966 non-null   float64\n",
      " 26  kilowatts                 99966 non-null   float64\n",
      " 27  bodytype                  99966 non-null   object \n",
      " 28  NumberOfDoors             99966 non-null   float64\n",
      " 29  VehicleIntroDate          99966 non-null   object \n",
      " 30  CustomValueEstimate       21927 non-null   float64\n",
      " 31  AlarmImmobiliser          100010 non-null  object \n",
      " 32  TrackingDevice            100010 non-null  object \n",
      " 33  CapitalOutstanding        100010 non-null  object \n",
      " 34  NewVehicle                84518 non-null   object \n",
      " 35  WrittenOff                35845 non-null   object \n",
      " 36  Rebuilt                   35845 non-null   object \n",
      " 37  Converted                 35845 non-null   object \n",
      " 38  CrossBorder               64 non-null      object \n",
      " 39  NumberOfVehiclesInFleet   0 non-null       float64\n",
      " 40  SumInsured                100010 non-null  float64\n",
      " 41  TermFrequency             100010 non-null  object \n",
      " 42  CalculatedPremiumPerTerm  100010 non-null  float64\n",
      " 43  ExcessSelected            100010 non-null  object \n",
      " 44  CoverCategory             100010 non-null  object \n",
      " 45  CoverType                 100010 non-null  object \n",
      " 46  CoverGroup                100010 non-null  object \n",
      " 47  Section                   100010 non-null  object \n",
      " 48  Product                   100010 non-null  object \n",
      " 49  StatutoryClass            100010 non-null  object \n",
      " 50  StatutoryRiskType         100010 non-null  object \n",
      " 51  TotalPremium              100010 non-null  float64\n",
      " 52  TotalClaims               100010 non-null  float64\n",
      "dtypes: bool(1), float64(11), int64(5), object(36)\n",
      "memory usage: 40.5+ MB\n"
     ]
    }
   ],
   "source": [
    "df.info()"
   ]
  },
  {
   "cell_type": "code",
   "execution_count": 26,
   "metadata": {},
   "outputs": [],
   "source": [
    "import pandas as pd\n",
    "\n",
    "# Load the downloaded postal code data\n",
    "postal_data = pd.read_csv(\"data/ZA.txt\", sep='\\t', header=None, names=['CountryCode', 'PostalCode', 'PlaceName', 'Admin1Name', 'Admin1Code', 'Admin2Name', 'Admin2Code', 'Admin3Name', 'Admin3Code', 'Latitude', 'Longitude', 'Accuracy'])\n",
    "\n",
    "# Create a mapping of postal codes to city names\n",
    "postal_code_to_city = dict(zip(postal_data['PostalCode'], postal_data['PlaceName']))\n",
    "# Add a new column in your dataset by mapping the postal code to city names\n",
    "df['CityName'] = df['PostalCode'].map(postal_code_to_city)\n"
   ]
  },
  {
   "cell_type": "markdown",
   "metadata": {},
   "source": [
    "### Selecting important columns"
   ]
  },
  {
   "cell_type": "code",
   "execution_count": 27,
   "metadata": {},
   "outputs": [],
   "source": [
    "from scripts.data_preparation import feature_engineering\n",
    "\n",
    "\n",
    "df = feature_engineering(df)"
   ]
  },
  {
   "cell_type": "code",
   "execution_count": 28,
   "metadata": {},
   "outputs": [],
   "source": [
    "\n",
    "selected_columns = ['CityName','RiskFactor','VehicleAge', 'MainCrestaZone', 'SubCrestaZone', 'mmcode', 'Cylinders', 'cubiccapacity', 'kilowatts', 'NumberOfDoors', 'CustomValueEstimate', 'AlarmImmobiliser', 'TrackingDevice', 'CapitalOutstanding', 'NewVehicle', 'WrittenOff', 'Rebuilt', 'Converted', 'SumInsured', 'TermFrequency', 'CalculatedPremiumPerTerm', 'ExcessSelected', 'CoverCategory', 'CoverType', 'CoverGroup', 'Section', 'Product', 'StatutoryClass', 'StatutoryRiskType','TotalPremium', 'TotalClaims']\n",
    "\n",
    "df = df[selected_columns]"
   ]
  },
  {
   "cell_type": "markdown",
   "metadata": {},
   "source": [
    "### Data Preparation: "
   ]
  },
  {
   "cell_type": "code",
   "execution_count": 29,
   "metadata": {},
   "outputs": [],
   "source": [
    "from scripts.preprocessing import  replace_missing_with_mean, replace_missing_with_mode\n",
    " \n",
    "\n",
    "\n",
    "numerical_cols = df.select_dtypes(include=['int64', 'float64'])\n",
    "categorical_cols = df.select_dtypes(include='object')\n",
    "\n",
    "df = replace_missing_with_mode(df,categorical_cols)\n",
    "df = replace_missing_with_mean(df,numerical_cols.columns)\n",
    "\n"
   ]
  },
  {
   "cell_type": "code",
   "execution_count": 31,
   "metadata": {},
   "outputs": [],
   "source": [
    "from sklearn.preprocessing import MinMaxScaler\n",
    "\n",
    "\n",
    "# Columns to scale\n",
    "columns_to_scale = [\n",
    "     'RiskFactor', 'VehicleAge', 'mmcode', 'Cylinders', \n",
    "    'cubiccapacity', 'kilowatts', 'NumberOfDoors', 'CustomValueEstimate', \n",
    "    'CapitalOutstanding', 'SumInsured', \n",
    "    'CalculatedPremiumPerTerm', 'TotalPremium', 'TotalClaims'\n",
    "]\n",
    "\n",
    "# Initialize the MinMaxScaler\n",
    "scaler = MinMaxScaler()\n",
    "\n",
    "# Fit and transform the data\n",
    "df[columns_to_scale] = scaler.fit_transform(df[columns_to_scale])\n"
   ]
  },
  {
   "cell_type": "markdown",
   "metadata": {},
   "source": [
    "#### Encoding Categorical Data:\n",
    "* Convert categorical data into a numeric format using one-hot encoding or label encoding to make it suitable for modeling."
   ]
  },
  {
   "cell_type": "code",
   "execution_count": 32,
   "metadata": {},
   "outputs": [],
   "source": [
    "from scripts.data_preparation import encode_categorical_data\n",
    "\n",
    "\n",
    "df = encode_categorical_data(df)"
   ]
  },
  {
   "cell_type": "markdown",
   "metadata": {},
   "source": [
    "\n",
    "#### Train-Test Split:\n",
    "* Divide the data into a training set (for building the model) and a test set (for validating the model) using a 70:30 \n"
   ]
  },
  {
   "cell_type": "code",
   "execution_count": 33,
   "metadata": {},
   "outputs": [],
   "source": [
    "from scripts.data_preparation import train_test_splitting\n",
    "\n",
    "\n",
    "target_cols = ['TotalPremium', 'TotalClaims']\n",
    "X_train, X_test, y_train, y_test = train_test_splitting(df, target_cols)"
   ]
  },
  {
   "cell_type": "markdown",
   "metadata": {},
   "source": [
    "### Model Building\n",
    "* Implement Linear Regression, Random Forests, and XGBoost models\n"
   ]
  },
  {
   "cell_type": "code",
   "execution_count": null,
   "metadata": {},
   "outputs": [],
   "source": [
    "\n",
    "from scripts.models import train_and_evaluate_models\n",
    "\n",
    "\n",
    "results = train_and_evaluate_models(X_train, X_test, y_train['TotalPremium'], y_test['TotalPremium'])\n",
    "    \n",
    "# Print results for each model\n",
    "for model_name, metrics in results.items():\n",
    "    print(f\"{model_name}: MSE = {metrics['MSE']}, R2 = {metrics['R2']}\")"
   ]
  }
 ],
 "metadata": {
  "kernelspec": {
   "display_name": ".venv",
   "language": "python",
   "name": "python3"
  },
  "language_info": {
   "codemirror_mode": {
    "name": "ipython",
    "version": 3
   },
   "file_extension": ".py",
   "mimetype": "text/x-python",
   "name": "python",
   "nbconvert_exporter": "python",
   "pygments_lexer": "ipython3",
   "version": "3.12.6"
  }
 },
 "nbformat": 4,
 "nbformat_minor": 2
}

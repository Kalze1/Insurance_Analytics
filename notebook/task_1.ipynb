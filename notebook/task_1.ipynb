{
 "cells": [
  {
   "cell_type": "markdown",
   "metadata": {},
   "source": [
    "Perform Exploratory Data Analysis (EDA) analysis on the following:\n",
    "    Data Summarization:\n",
    "        Descriptive Statistics: Calculate the variability for numerical features such as TotalPremium, TotalClaim, etc.\n",
    "        Data Structure: Review the dtype of each column to confirm if categorical variables, dates, etc. are properly formatted.\n",
    "    Data Quality Assessment:\n",
    "        Check for missing values.\n",
    "    Univariate Analysis:\n",
    "        Distribution of Variables: Plot histograms for numerical columns and bar charts for categorical columns to understand distributions..\n",
    "    Bivariate or Multivariate Analysis:\n",
    "        Correlations and Associations: Explore relationships between the monthly changes TotalPremium and TotalClaims as a function of ZipCode, using scatter plots and correlation matrices.\n",
    "    Data Comparison\n",
    "        Trends Over Geography: Compare the change in insurance cover type, premium, auto make, etc. \n",
    "    Outlier Detection:\n",
    "        Use box plots to detect outliers in numerical data\n",
    "    Visualization\n",
    "        Produce 3 creative and beautiful plots that capture the key insight you gained from your EDA\n"
   ]
  },
  {
   "cell_type": "code",
   "execution_count": 1,
   "metadata": {},
   "outputs": [],
   "source": [
    "import os\n",
    "os.chdir(\"../\")\n"
   ]
  },
  {
   "cell_type": "markdown",
   "metadata": {},
   "source": [
    "The data was changed to data/dataset.csv"
   ]
  },
  {
   "cell_type": "code",
   "execution_count": null,
   "metadata": {},
   "outputs": [],
   "source": [
    "import pandas as pd\n",
    "df = pd.read_csv('data/dataset.csv')"
   ]
  },
  {
   "cell_type": "code",
   "execution_count": null,
   "metadata": {},
   "outputs": [],
   "source": [
    "df.info()"
   ]
  },
  {
   "cell_type": "code",
   "execution_count": null,
   "metadata": {},
   "outputs": [],
   "source": [
    "# df['Date_Column'] = pd.to_datetime(df['Date_Column'])"
   ]
  },
  {
   "cell_type": "markdown",
   "metadata": {},
   "source": [
    "Descriptive Statistics: Calculate the variability for numerical features such as TotalPremium, TotalClaim, etc.\n"
   ]
  },
  {
   "cell_type": "markdown",
   "metadata": {},
   "source": [
    "Check for missing values.\n"
   ]
  },
  {
   "cell_type": "code",
   "execution_count": null,
   "metadata": {},
   "outputs": [],
   "source": [
    "print(df.columns)"
   ]
  },
  {
   "cell_type": "code",
   "execution_count": 12,
   "metadata": {},
   "outputs": [],
   "source": [
    "from scripts.preprocessing import count_missing_values\n",
    "\n",
    "missing , missing_percent =count_missing_values(df)"
   ]
  },
  {
   "cell_type": "code",
   "execution_count": null,
   "metadata": {},
   "outputs": [],
   "source": [
    "print(missing_percent)"
   ]
  },
  {
   "cell_type": "markdown",
   "metadata": {},
   "source": [
    "most of the columns are compleat but some have missing values :\n",
    "    NumberOfVehiclesInFleet     100.000000\n",
    "    CrossBorder                  99.930207\n",
    "    CustomValueEstimate          77.956560\n",
    "    Converted                    64.183810\n",
    "    Rebuilt                      64.183810\n",
    "    WrittenOff                   64.183810\n",
    "    NewVehicle                   15.327998\n",
    "    Bank                         14.594670\n",
    "    AccountType                   4.022806"
   ]
  },
  {
   "cell_type": "markdown",
   "metadata": {},
   "source": [
    "data preprocessing \n",
    "    i have drop the columns :\n",
    "        NumberOfVehiclesInFleet(becouse it have no data 100 percent missing)\n",
    "        CrossBorder(becouse it have more than 99 percent missing value )\n",
    "\n",
    "    and replace missing valuse for the remaining columns \n",
    "        numerica colums by mean \n",
    "        catagorical colums by mode\n",
    "    \n"
   ]
  },
  {
   "cell_type": "code",
   "execution_count": null,
   "metadata": {},
   "outputs": [],
   "source": [
    "from scripts.preprocessing import replace_missing_with_mean, replace_missing_with_mode\n",
    "\n",
    "df = df.drop(columns=['NumberOfVehiclesInFleet','CrossBorder' ])\n",
    "numerical_cols = df.select_dtypes(include=['int64', 'float64'])\n",
    "categorical_cols = df.select_dtypes(include='object')\n",
    "\n",
    "df = replace_missing_with_mode(df,categorical_cols)\n",
    "df = replace_missing_with_mean(df,numerical_cols.columns)\n"
   ]
  },
  {
   "cell_type": "code",
   "execution_count": null,
   "metadata": {},
   "outputs": [],
   "source": [
    "missing, missing_percent = count_missing_values(df)\n",
    "print(missing_percent)"
   ]
  },
  {
   "cell_type": "code",
   "execution_count": null,
   "metadata": {},
   "outputs": [],
   "source": [
    "df.describe()"
   ]
  },
  {
   "cell_type": "code",
   "execution_count": 17,
   "metadata": {},
   "outputs": [],
   "source": [
    "from scripts.eda import descriptive_statistics\n",
    "#coumns to perform descriptive statistics \n",
    "columns_num = ['TotalPremium', 'TotalClaims','SumInsured', 'CalculatedPremiumPerTerm', 'ExcessSelected']\n",
    "\n",
    "\n",
    "descriptive_result = descriptive_statistics(df, columns_num)\n"
   ]
  },
  {
   "cell_type": "code",
   "execution_count": null,
   "metadata": {},
   "outputs": [],
   "source": [
    "from scripts.eda import visualize_descriptive_statistics\n",
    "stats = descriptive_statistics(df, descriptive_result)\n",
    "visualize_descriptive_statistics(stats)"
   ]
  },
  {
   "cell_type": "markdown",
   "metadata": {},
   "source": [
    "Data Structure: Review the dtype of each column to confirm if categorical variables, dates, etc. are properly formatted.\n"
   ]
  },
  {
   "cell_type": "code",
   "execution_count": null,
   "metadata": {},
   "outputs": [],
   "source": [
    "df.info()"
   ]
  },
  {
   "cell_type": "markdown",
   "metadata": {},
   "source": [
    "we have object, float64, and int64 data types "
   ]
  },
  {
   "cell_type": "code",
   "execution_count": null,
   "metadata": {},
   "outputs": [],
   "source": [
    "object_cols = df.select_dtypes(include='object')\n",
    "print(object_cols.columns)"
   ]
  },
  {
   "cell_type": "markdown",
   "metadata": {},
   "source": [
    "Distribution of Variables: Plot histograms for numerical columns and bar charts for categorical columns to understand distributions.."
   ]
  },
  {
   "cell_type": "code",
   "execution_count": null,
   "metadata": {},
   "outputs": [],
   "source": [
    "from scripts.eda import show_histograms\n",
    "show_histograms(df, numerical_cols)"
   ]
  },
  {
   "cell_type": "code",
   "execution_count": null,
   "metadata": {},
   "outputs": [],
   "source": [
    "from scripts.eda import show_bar_chart\n",
    "show_bar_chart(df,categorical_cols)"
   ]
  },
  {
   "cell_type": "markdown",
   "metadata": {},
   "source": [
    "Correlations and Associations: Explore relationships between the monthly changes TotalPremium and TotalClaims as a function of ZipCode, using scatter plots and correlation matrices."
   ]
  },
  {
   "cell_type": "code",
   "execution_count": 20,
   "metadata": {},
   "outputs": [],
   "source": [
    "df['TransactionMonth'] = pd.to_datetime(df['TransactionMonth'], format='ISO8601')\n",
    "\n",
    "\n",
    "# Sort by TransactionMonth\n",
    "df = df.sort_values('TransactionMonth')\n",
    "\n",
    "# Calculate monthly changes\n",
    "df['TotalPremium_Change'] = df['TotalPremium'].diff()\n",
    "df['TotalClaims_Change'] = df['TotalClaims'].diff()"
   ]
  },
  {
   "cell_type": "code",
   "execution_count": null,
   "metadata": {},
   "outputs": [],
   "source": [
    "from scripts.eda import corr_trotalpremium_totalclaim_postalcode\n",
    "\n",
    "corr_trotalpremium_totalclaim_postalcode(df)"
   ]
  },
  {
   "cell_type": "markdown",
   "metadata": {},
   "source": [
    "Data Comparison\n",
    "    Trends Over Geography: Compare the change in insurance cover type, premium, auto make, etc. \n"
   ]
  },
  {
   "cell_type": "code",
   "execution_count": null,
   "metadata": {},
   "outputs": [],
   "source": [
    "from scripts.eda import analyze_geographic_trends\n",
    "analyze_geographic_trends(df)"
   ]
  },
  {
   "cell_type": "markdown",
   "metadata": {},
   "source": [
    "Outlier Detection:\n",
    "    Use box plots to detect outliers in numerical data"
   ]
  },
  {
   "cell_type": "code",
   "execution_count": null,
   "metadata": {},
   "outputs": [],
   "source": [
    "from scripts.eda import outlier_detection\n",
    "\n",
    "outlier_detection(df, numerical_cols)"
   ]
  },
  {
   "cell_type": "markdown",
   "metadata": {},
   "source": [
    "Visualization\n",
    "    Produce 3 creative and beautiful plots that capture the key insight you gained from your EDA\n"
   ]
  },
  {
   "cell_type": "code",
   "execution_count": null,
   "metadata": {},
   "outputs": [],
   "source": [
    "42\n",
    "1?Kbmjv-\n",
    "from scripts.eda import visualize_plots\n",
    "\n",
    "\n",
    "visualize_plots(df)\n"
   ]
  }
 ],
 "metadata": {
  "kernelspec": {
   "display_name": "InsuranceAnalyticenv",
   "language": "python",
   "name": "python3"
  },
  "language_info": {
   "codemirror_mode": {
    "name": "ipython",
    "version": 3
   },
   "file_extension": ".py",
   "mimetype": "text/x-python",
   "name": "python",
   "nbconvert_exporter": "python",
   "pygments_lexer": "ipython3",
   "version": "3.12.6"
  }
 },
 "nbformat": 4,
 "nbformat_minor": 2
}

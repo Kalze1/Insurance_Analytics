{
 "cells": [
  {
   "cell_type": "markdown",
   "metadata": {},
   "source": [
    "Perform Exploratory Data Analysis (EDA) analysis on the following:\n",
    "    Data Summarization:\n",
    "        Descriptive Statistics: Calculate the variability for numerical features such as TotalPremium, TotalClaim, etc.\n",
    "        Data Structure: Review the dtype of each column to confirm if categorical variables, dates, etc. are properly formatted.\n",
    "    Data Quality Assessment:\n",
    "        Check for missing values.\n",
    "    Univariate Analysis:\n",
    "        Distribution of Variables: Plot histograms for numerical columns and bar charts for categorical columns to understand distributions..\n",
    "    Bivariate or Multivariate Analysis:\n",
    "        Correlations and Associations: Explore relationships between the monthly changes TotalPremium and TotalClaims as a function of ZipCode, using scatter plots and correlation matrices.\n",
    "    Data Comparison\n",
    "        Trends Over Geography: Compare the change in insurance cover type, premium, auto make, etc. \n",
    "    Outlier Detection:\n",
    "        Use box plots to detect outliers in numerical data\n",
    "    Visualization\n",
    "        Produce 3 creative and beautiful plots that capture the key insight you gained from your EDA\n"
   ]
  },
  {
   "cell_type": "code",
   "execution_count": 1,
   "metadata": {},
   "outputs": [],
   "source": [
    "import os\n",
    "os.chdir(\"../\")\n"
   ]
  },
  {
   "cell_type": "markdown",
   "metadata": {},
   "source": [
    "The data was changed to data/data.csv"
   ]
  },
  {
   "cell_type": "code",
   "execution_count": null,
   "metadata": {},
   "outputs": [],
   "source": [
    "import pandas as pd\n",
    "df = pd.read_csv('data/data.csv')"
   ]
  },
  {
   "cell_type": "code",
   "execution_count": null,
   "metadata": {},
   "outputs": [],
   "source": [
    "df['Date_Column'] = pd.to_datetime(df['Date_Column'])"
   ]
  },
  {
   "cell_type": "code",
   "execution_count": null,
   "metadata": {},
   "outputs": [],
   "source": [
    "print(df.columns)"
   ]
  },
  {
   "cell_type": "code",
   "execution_count": null,
   "metadata": {},
   "outputs": [],
   "source": [
    "print(df.head())"
   ]
  },
  {
   "cell_type": "code",
   "execution_count": null,
   "metadata": {},
   "outputs": [],
   "source": [
    "float_col = df.select_dtypes(include=['float64','int64'] )\n",
    "print(float_col.columns)"
   ]
  },
  {
   "cell_type": "markdown",
   "metadata": {},
   "source": [
    "Descriptive Statistics: Calculate the variability for numerical features such as TotalPremium, TotalClaim, etc.\n"
   ]
  },
  {
   "cell_type": "code",
   "execution_count": null,
   "metadata": {},
   "outputs": [],
   "source": [
    "#coumns to perform descriptive statistics \n",
    "columns_num = ['TotalPremium', 'TotalClaims','SumInsured', 'CalculatedPremiumPerTerm', 'ExcessSelected', 'NumberOfVehiclesInFleet','Age', 'YearsInsured', 'DrivingExperience', 'ClaimFrequency', 'ClaimSeverity']\n",
    "columns_num = ['TotalPremium', 'TotalClaims','SumInsured', 'CalculatedPremiumPerTerm', 'ExcessSelected', 'NumberOfVehiclesInFleet']\n",
    "\n",
    "\n",
    "for col in columns_num:\n",
    "    print(\"##############\",col)\n",
    "    # Calculate descriptive statistics for TotalPremium and TotalClaim\n",
    "    descriptive_stats = df[col].describe()\n",
    "\n",
    "    \n",
    "    # Print the results\n",
    "    print(\"Descriptive Statistics:\\n\", descriptive_stats)\n",
    "    \n"
   ]
  },
  {
   "cell_type": "markdown",
   "metadata": {},
   "source": [
    "Data Structure: Review the dtype of each column to confirm if categorical variables, dates, etc. are properly formatted.\n"
   ]
  },
  {
   "cell_type": "code",
   "execution_count": null,
   "metadata": {},
   "outputs": [],
   "source": [
    "df.info()"
   ]
  },
  {
   "cell_type": "markdown",
   "metadata": {},
   "source": [
    "we have object, float64, and int64 data types "
   ]
  },
  {
   "cell_type": "code",
   "execution_count": null,
   "metadata": {},
   "outputs": [],
   "source": [
    "object_cols = df.select_dtypes(include='object')\n",
    "print(object_cols.columns)"
   ]
  },
  {
   "cell_type": "code",
   "execution_count": null,
   "metadata": {},
   "outputs": [],
   "source": [
    "df.describe()"
   ]
  },
  {
   "cell_type": "code",
   "execution_count": null,
   "metadata": {},
   "outputs": [],
   "source": [
    "for col in object_cols:\n",
    "    print(\"######### \", col)\n",
    "    print(df[col].value_counts())"
   ]
  },
  {
   "cell_type": "code",
   "execution_count": null,
   "metadata": {},
   "outputs": [],
   "source": [
    "num_data_points = len(df)\n",
    "print(\"Number of data points:\", num_data_points)"
   ]
  },
  {
   "cell_type": "markdown",
   "metadata": {},
   "source": [
    "Check for missing values.\n"
   ]
  },
  {
   "cell_type": "code",
   "execution_count": null,
   "metadata": {},
   "outputs": [],
   "source": [
    "\n",
    "total_rows = df.shape[0]\n",
    "\n",
    "data = {'columns':[],\n",
    "        'missing_values' : [],\n",
    "        'missing_values_percentage':[]}\n",
    "missing = pd.DataFrame(data)\n",
    "\n",
    "# missing['columns']= df.columns\n",
    "missing['missing_values'] = df.isnull().sum()\n",
    "missing['missing_values_percentage'] = (missing['missing_values'] / total_rows) * 100\n",
    "print(missing)"
   ]
  },
  {
   "cell_type": "markdown",
   "metadata": {},
   "source": [
    "most of the columns are compleat but some have missing values :\n",
    "    NumberOfVehiclesInFleet     100.000000\n",
    "    CrossBorder                  99.930207\n",
    "    CustomValueEstimate          77.956560\n",
    "    Converted                    64.183810\n",
    "    Rebuilt                      64.183810\n",
    "    WrittenOff                   64.183810\n",
    "    NewVehicle                   15.327998\n",
    "    Bank                         14.594670\n",
    "    AccountType                   4.022806"
   ]
  },
  {
   "cell_type": "markdown",
   "metadata": {},
   "source": [
    "Distribution of Variables: Plot histograms for numerical columns and bar charts for categorical columns to understand distributions.."
   ]
  },
  {
   "cell_type": "code",
   "execution_count": null,
   "metadata": {},
   "outputs": [],
   "source": [
    "numerical_cols = df.select_dtypes(include=['int64', 'float64'])\n",
    "categorical_cols = df.select_dtypes(include='object')\n",
    "\n",
    "print(\"Numerical columns:\", numerical_cols.columns)\n",
    "print(\"Categorical columns:\", categorical_cols.columns)"
   ]
  },
  {
   "cell_type": "code",
   "execution_count": null,
   "metadata": {},
   "outputs": [],
   "source": [
    "import matplotlib.pyplot as plt\n",
    "\n",
    "for col in numerical_cols:\n",
    "    plt.figure(figsize=(10, 5))\n",
    "    plt.hist(df[col], bins=30)\n",
    "    plt.title(f\"Histogram of {col}\")\n",
    "    plt.xlabel(col)\n",
    "    plt.ylabel(\"Frequency\")\n",
    "    plt.savefig(f\"screenshots/histogram_{col}.png\")  \n",
    "    plt.show()"
   ]
  },
  {
   "cell_type": "code",
   "execution_count": null,
   "metadata": {},
   "outputs": [],
   "source": [
    "for col in categorical_cols:\n",
    "    plt.figure(figsize=(10, 5))\n",
    "    df[col].value_counts().plot(kind='bar')\n",
    "    plt.title(f\"Bar Chart of {col}\")\n",
    "    plt.xlabel(col)\n",
    "    plt.ylabel(\"Frequency\")\n",
    "    plt.savefig(f\"screenshots/bar_chart_{col}.png\")  \n",
    "    plt.show()"
   ]
  },
  {
   "cell_type": "markdown",
   "metadata": {},
   "source": [
    "Correlations and Associations: Explore relationships between the monthly changes TotalPremium and TotalClaims as a function of ZipCode, using scatter plots and correlation matrices."
   ]
  },
  {
   "cell_type": "code",
   "execution_count": 48,
   "metadata": {},
   "outputs": [],
   "source": [
    "df['TransactionMonth'] = pd.to_datetime(df['TransactionMonth'], format='ISO8601')\n",
    "\n",
    "\n",
    "# Sort by TransactionMonth\n",
    "df = df.sort_values('TransactionMonth')\n",
    "\n",
    "# Calculate monthly changes\n",
    "df['TotalPremium_Change'] = df['TotalPremium'].diff()\n",
    "df['TotalClaims_Change'] = df['TotalClaims'].diff()"
   ]
  },
  {
   "cell_type": "code",
   "execution_count": 52,
   "metadata": {},
   "outputs": [
    {
     "name": "stderr",
     "output_type": "stream",
     "text": [
      "C:\\Users\\windows 10\\AppData\\Local\\Temp\\ipykernel_13768\\601128131.py:12: UserWarning: Creating legend with loc=\"best\" can be slow with large amounts of data.\n",
      "  plt.savefig('screenshots/scatter_plot_totalpremium_changes_va_totalclaims_changes.png')\n"
     ]
    }
   ],
   "source": [
    "import seaborn as sns\n",
    "import matplotlib.pyplot as plt\n",
    "\n",
    "\n",
    "# Create a scatter plot with color-coded points by ZipCode\n",
    "sns.scatterplot(x='TotalPremium_Change', y='TotalClaims_Change', data=df, hue='PostalCode',palette='viridis')\n",
    "\n",
    "# Set the title and labels\n",
    "plt.title('Scatter Plot of TotalPremium Changes vs. TotalClaims Changes')\n",
    "plt.xlabel('TotalPremium Changes')\n",
    "plt.ylabel('TotalClaims Changes')\n",
    "plt.savefig('screenshots/scatter_plot_totalpremium_changes_va_totalclaims_changes.png')  \n",
    "\n",
    "\n",
    "# Show the plot\n",
    "plt.show()"
   ]
  }
 ],
 "metadata": {
  "kernelspec": {
   "display_name": "InsuranceAnalyticenv",
   "language": "python",
   "name": "python3"
  },
  "language_info": {
   "codemirror_mode": {
    "name": "ipython",
    "version": 3
   },
   "file_extension": ".py",
   "mimetype": "text/x-python",
   "name": "python",
   "nbconvert_exporter": "python",
   "pygments_lexer": "ipython3",
   "version": "3.12.5"
  }
 },
 "nbformat": 4,
 "nbformat_minor": 2
}
